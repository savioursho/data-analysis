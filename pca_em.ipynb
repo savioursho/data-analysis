{
  "nbformat": 4,
  "nbformat_minor": 0,
  "metadata": {
    "colab": {
      "provenance": [],
      "authorship_tag": "ABX9TyMpby64XAhbxNm36sz9Qr44",
      "include_colab_link": true
    },
    "kernelspec": {
      "name": "python3",
      "display_name": "Python 3"
    },
    "language_info": {
      "name": "python"
    }
  },
  "cells": [
    {
      "cell_type": "markdown",
      "metadata": {
        "id": "view-in-github",
        "colab_type": "text"
      },
      "source": [
        "<a href=\"https://colab.research.google.com/github/savioursho/data-analysis/blob/main/pca_em.ipynb\" target=\"_parent\"><img src=\"https://colab.research.google.com/assets/colab-badge.svg\" alt=\"Open In Colab\"/></a>"
      ]
    },
    {
      "cell_type": "code",
      "execution_count": 1,
      "metadata": {
        "id": "fQffaClq48jy"
      },
      "outputs": [],
      "source": [
        "import numpy as np"
      ]
    },
    {
      "cell_type": "code",
      "source": [
        "# 元の行列\n",
        "missing_matrix = np.array(\n",
        "    [[1, 2],\n",
        "     [2, np.nan]]\n",
        ")\n",
        "missing_matrix"
      ],
      "metadata": {
        "colab": {
          "base_uri": "https://localhost:8080/"
        },
        "id": "6RlxTKwE5DHp",
        "outputId": "1f2778a5-05b8-4a07-c3bc-a32ee1e1a3d5"
      },
      "execution_count": 32,
      "outputs": [
        {
          "output_type": "execute_result",
          "data": {
            "text/plain": [
              "array([[ 1.,  2.],\n",
              "       [ 2., nan]])"
            ]
          },
          "metadata": {},
          "execution_count": 32
        }
      ]
    },
    {
      "cell_type": "code",
      "source": [
        "# 欠損値があるところのマスク\n",
        "mask = np.isnan(missing_matrix)\n",
        "mask"
      ],
      "metadata": {
        "colab": {
          "base_uri": "https://localhost:8080/"
        },
        "id": "e_w9YM6i7j14",
        "outputId": "1347809d-ee66-422e-c341-881fa5058818"
      },
      "execution_count": 33,
      "outputs": [
        {
          "output_type": "execute_result",
          "data": {
            "text/plain": [
              "array([[False, False],\n",
              "       [False,  True]])"
            ]
          },
          "metadata": {},
          "execution_count": 33
        }
      ]
    },
    {
      "cell_type": "code",
      "source": [
        "# 列の平均で欠損を埋める\n",
        "initialized_matrix = missing_matrix.copy()\n",
        "initialized_matrix[1, 1] = 2\n",
        "last_projection = initialized_matrix\n",
        "initialized_matrix"
      ],
      "metadata": {
        "colab": {
          "base_uri": "https://localhost:8080/"
        },
        "id": "YT1vooiF5WnU",
        "outputId": "3f8f264a-6fba-4ccd-8a4f-1f000b404f15"
      },
      "execution_count": 34,
      "outputs": [
        {
          "output_type": "execute_result",
          "data": {
            "text/plain": [
              "array([[1., 2.],\n",
              "       [2., 2.]])"
            ]
          },
          "metadata": {},
          "execution_count": 34
        }
      ]
    },
    {
      "cell_type": "markdown",
      "source": [
        "イテレーション1"
      ],
      "metadata": {
        "id": "D7n8oudK995o"
      }
    },
    {
      "cell_type": "code",
      "source": [
        "def iteration(matrix, projection, mask):\n",
        "    last_projection = projection.copy()\n",
        "\n",
        "    # 行列分解してランク1にする\n",
        "    u, s, vh = np.linalg.svd(matrix)\n",
        "    projection = u[:, 0].reshape(2, 1) * s[0] @ vh[0, :].reshape(1, 2)\n",
        "\n",
        "    # 欠損値部分を置き換え\n",
        "    matrix[mask] = projection[mask]\n",
        "\n",
        "    # 欠損部分の差を計算\n",
        "    delta = last_projection[mask] - projection[mask]\n",
        "    diff = np.square(delta).sum() / np.square(projection[mask]).sum()\n",
        "\n",
        "    return matrix, projection, diff"
      ],
      "metadata": {
        "id": "4_k8_1FB-H0g"
      },
      "execution_count": 31,
      "outputs": []
    },
    {
      "cell_type": "code",
      "source": [
        "matrix = initialized_matrix\n",
        "projection = initialized_matrix\n",
        "for i in range(100):\n",
        "    matrix, projection, diff = iteration(matrix, projection, mask)\n",
        "    if i % 10 == 0:\n",
        "        print(\"iter:\\t\", i)\n",
        "        print(\"diff:\\t\", diff)\n",
        "        print(\"matrix:\\t\\n\", matrix)"
      ],
      "metadata": {
        "colab": {
          "base_uri": "https://localhost:8080/"
        },
        "id": "0CwWneaA_YHh",
        "outputId": "4e2fc535-024e-41eb-f85b-3b9cf1c194e9"
      },
      "execution_count": 39,
      "outputs": [
        {
          "output_type": "stream",
          "name": "stdout",
          "text": [
            "iter:\t 0\n",
            "diff:\t 4.2634996620823475e-06\n",
            "matrix:\t\n",
            " [[1.         2.        ]\n",
            " [2.         3.82687031]]\n",
            "iter:\t 10\n",
            "diff:\t 1.611451054315454e-06\n",
            "matrix:\t\n",
            " [[1.         2.        ]\n",
            " [2.         3.88827814]]\n",
            "iter:\t 20\n",
            "diff:\t 6.45190832207753e-07\n",
            "matrix:\t\n",
            " [[1.        2.       ]\n",
            " [2.        3.9271256]]\n",
            "iter:\t 30\n",
            "diff:\t 2.675875051150114e-07\n",
            "matrix:\t\n",
            " [[1.         2.        ]\n",
            " [2.         3.95214559]]\n",
            "iter:\t 40\n",
            "diff:\t 1.1347263041532632e-07\n",
            "matrix:\t\n",
            " [[1.         2.        ]\n",
            " [2.         3.96844088]]\n",
            "iter:\t 50\n",
            "diff:\t 4.881035792963858e-08\n",
            "matrix:\t\n",
            " [[1.        2.       ]\n",
            " [2.        3.9791297]]\n",
            "iter:\t 60\n",
            "diff:\t 2.1191389790631107e-08\n",
            "matrix:\t\n",
            " [[1.         2.        ]\n",
            " [2.         3.98617335]]\n",
            "iter:\t 70\n",
            "diff:\t 9.256444065241534e-09\n",
            "matrix:\t\n",
            " [[1.         2.        ]\n",
            " [2.         3.99082891]]\n",
            "iter:\t 80\n",
            "diff:\t 4.059430021842469e-09\n",
            "matrix:\t\n",
            " [[1.         2.        ]\n",
            " [2.         3.99391214]]\n",
            "iter:\t 90\n",
            "diff:\t 1.7849771464349408e-09\n",
            "matrix:\t\n",
            " [[1.         2.        ]\n",
            " [2.         3.99595672]]\n"
          ]
        }
      ]
    },
    {
      "cell_type": "code",
      "source": [],
      "metadata": {
        "id": "qJ79H0sE97__"
      },
      "execution_count": null,
      "outputs": []
    }
  ]
}