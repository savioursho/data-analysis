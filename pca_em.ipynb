{
  "nbformat": 4,
  "nbformat_minor": 0,
  "metadata": {
    "colab": {
      "provenance": [],
      "authorship_tag": "ABX9TyOBqS58DU9cy3Joa8U46i0u",
      "include_colab_link": true
    },
    "kernelspec": {
      "name": "python3",
      "display_name": "Python 3"
    },
    "language_info": {
      "name": "python"
    }
  },
  "cells": [
    {
      "cell_type": "markdown",
      "metadata": {
        "id": "view-in-github",
        "colab_type": "text"
      },
      "source": [
        "<a href=\"https://colab.research.google.com/github/savioursho/data-analysis/blob/main/pca_em.ipynb\" target=\"_parent\"><img src=\"https://colab.research.google.com/assets/colab-badge.svg\" alt=\"Open In Colab\"/></a>"
      ]
    },
    {
      "cell_type": "code",
      "execution_count": 1,
      "metadata": {
        "id": "fQffaClq48jy"
      },
      "outputs": [],
      "source": [
        "import numpy as np"
      ]
    },
    {
      "cell_type": "code",
      "source": [
        "# 元の行列\n",
        "missing_matrix = np.array(\n",
        "    [[1, 2],\n",
        "     [2, np.nan]]\n",
        ")\n",
        "missing_matrix"
      ],
      "metadata": {
        "colab": {
          "base_uri": "https://localhost:8080/"
        },
        "id": "6RlxTKwE5DHp",
        "outputId": "1f2778a5-05b8-4a07-c3bc-a32ee1e1a3d5"
      },
      "execution_count": 32,
      "outputs": [
        {
          "output_type": "execute_result",
          "data": {
            "text/plain": [
              "array([[ 1.,  2.],\n",
              "       [ 2., nan]])"
            ]
          },
          "metadata": {},
          "execution_count": 32
        }
      ]
    },
    {
      "cell_type": "code",
      "source": [
        "# 欠損値があるところのマスク\n",
        "mask = np.isnan(missing_matrix)\n",
        "mask"
      ],
      "metadata": {
        "colab": {
          "base_uri": "https://localhost:8080/"
        },
        "id": "e_w9YM6i7j14",
        "outputId": "1347809d-ee66-422e-c341-881fa5058818"
      },
      "execution_count": 33,
      "outputs": [
        {
          "output_type": "execute_result",
          "data": {
            "text/plain": [
              "array([[False, False],\n",
              "       [False,  True]])"
            ]
          },
          "metadata": {},
          "execution_count": 33
        }
      ]
    },
    {
      "cell_type": "code",
      "source": [
        "# 列の平均で欠損を埋める\n",
        "initialized_matrix = missing_matrix.copy()\n",
        "initialized_matrix[1, 1] = 2\n",
        "last_projection = initialized_matrix\n",
        "initialized_matrix"
      ],
      "metadata": {
        "colab": {
          "base_uri": "https://localhost:8080/"
        },
        "id": "YT1vooiF5WnU",
        "outputId": "5b70c772-740c-47b9-9bd0-2970425470f4"
      },
      "execution_count": 53,
      "outputs": [
        {
          "output_type": "execute_result",
          "data": {
            "text/plain": [
              "array([[1., 2.],\n",
              "       [2., 2.]])"
            ]
          },
          "metadata": {},
          "execution_count": 53
        }
      ]
    },
    {
      "cell_type": "code",
      "source": [],
      "metadata": {
        "colab": {
          "base_uri": "https://localhost:8080/"
        },
        "id": "sUAITJwCIELQ",
        "outputId": "f8500778-1cbb-4df8-bcb0-e0a3edf3fc72"
      },
      "execution_count": 50,
      "outputs": [
        {
          "output_type": "execute_result",
          "data": {
            "text/plain": [
              "array([[-2.19182309],\n",
              "       [-2.80723529]])"
            ]
          },
          "metadata": {},
          "execution_count": 50
        }
      ]
    },
    {
      "cell_type": "code",
      "source": [
        "def iteration(matrix, projection, mask, rank):\n",
        "    last_projection = projection.copy()\n",
        "\n",
        "    # 低ランクの行列に分解して再構成する\n",
        "    u, s, vh = np.linalg.svd(matrix)\n",
        "    projection = (u @ np.diag(s))[:, :rank] @ vh[:rank, :]\n",
        "\n",
        "    # 欠損値部分を置き換え\n",
        "    matrix[mask] = projection[mask]\n",
        "\n",
        "    # 欠損部分の差を計算\n",
        "    delta = last_projection[mask] - projection[mask]\n",
        "    diff = np.square(delta).sum() / np.square(projection[mask]).sum()\n",
        "\n",
        "    return matrix, projection, diff"
      ],
      "metadata": {
        "id": "4_k8_1FB-H0g"
      },
      "execution_count": 55,
      "outputs": []
    },
    {
      "cell_type": "code",
      "source": [
        "matrix = np.array(\n",
        "    [[1, 2, 3],\n",
        "     [2, 4, 6],\n",
        "     [3, 6, 100]]\n",
        ")\n",
        "projection = matrix.copy()\n",
        "mask = np.array(\n",
        "    [[False, False, False],\n",
        "     [False, False, False],\n",
        "     [False, False, True],]\n",
        ")\n",
        "for i in range(200):\n",
        "    matrix, projection, diff = iteration(matrix, projection, mask, rank=1)\n",
        "    if i % 20 == 0:\n",
        "        print(\"iter:\\t\", i)\n",
        "        print(\"diff:\\t\", diff)\n",
        "        print(\"matrix:\\t\\n\", matrix)"
      ],
      "metadata": {
        "colab": {
          "base_uri": "https://localhost:8080/"
        },
        "id": "0CwWneaA_YHh",
        "outputId": "f040d958-01d5-47ff-83c7-d753fdd915bc"
      },
      "execution_count": 60,
      "outputs": [
        {
          "output_type": "stream",
          "name": "stdout",
          "text": [
            "iter:\t 0\n",
            "diff:\t 4.9520699503408824e-08\n",
            "matrix:\t\n",
            " [[ 1  2  3]\n",
            " [ 2  4  6]\n",
            " [ 3  6 99]]\n",
            "iter:\t 20\n",
            "diff:\t 0.00015664125289152923\n",
            "matrix:\t\n",
            " [[ 1  2  3]\n",
            " [ 2  4  6]\n",
            " [ 3  6 79]]\n",
            "iter:\t 40\n",
            "diff:\t 0.00027935416986875144\n",
            "matrix:\t\n",
            " [[ 1  2  3]\n",
            " [ 2  4  6]\n",
            " [ 3  6 59]]\n",
            "iter:\t 60\n",
            "diff:\t 0.0006354332508227524\n",
            "matrix:\t\n",
            " [[ 1  2  3]\n",
            " [ 2  4  6]\n",
            " [ 3  6 39]]\n",
            "iter:\t 80\n",
            "diff:\t 0.002637655251130759\n",
            "matrix:\t\n",
            " [[ 1  2  3]\n",
            " [ 2  4  6]\n",
            " [ 3  6 19]]\n",
            "iter:\t 100\n",
            "diff:\t 0.0\n",
            "matrix:\t\n",
            " [[1 2 3]\n",
            " [2 4 6]\n",
            " [3 6 9]]\n",
            "iter:\t 120\n",
            "diff:\t 0.0\n",
            "matrix:\t\n",
            " [[1 2 3]\n",
            " [2 4 6]\n",
            " [3 6 9]]\n",
            "iter:\t 140\n",
            "diff:\t 0.0\n",
            "matrix:\t\n",
            " [[1 2 3]\n",
            " [2 4 6]\n",
            " [3 6 9]]\n",
            "iter:\t 160\n",
            "diff:\t 0.0\n",
            "matrix:\t\n",
            " [[1 2 3]\n",
            " [2 4 6]\n",
            " [3 6 9]]\n",
            "iter:\t 180\n",
            "diff:\t 0.0\n",
            "matrix:\t\n",
            " [[1 2 3]\n",
            " [2 4 6]\n",
            " [3 6 9]]\n"
          ]
        }
      ]
    },
    {
      "cell_type": "code",
      "source": [
        "matrix = np.array(\n",
        "    [[1, 2, 3],\n",
        "     [2, 4, 6],\n",
        "     [3, 6, 100]]\n",
        ")\n",
        "projection = matrix.copy()\n",
        "mask = np.array(\n",
        "    [[False, False, False],\n",
        "     [False, False, False],\n",
        "     [False, False, True],]\n",
        ")\n",
        "for i in range(200):\n",
        "    matrix, projection, diff = iteration(matrix, projection, mask, rank=2)\n",
        "    if i % 20 == 0:\n",
        "        print(\"iter:\\t\", i)\n",
        "        print(\"diff:\\t\", diff)\n",
        "        print(\"matrix:\\t\\n\", matrix)"
      ],
      "metadata": {
        "colab": {
          "base_uri": "https://localhost:8080/"
        },
        "outputId": "6c265395-5f1b-4542-ddaa-30b7262ffcec",
        "id": "duhOIf27Kl1O"
      },
      "execution_count": null,
      "outputs": [
        {
          "output_type": "stream",
          "name": "stdout",
          "text": [
            "iter:\t 0\n",
            "diff:\t 8.077935669463166e-32\n",
            "matrix:\t\n",
            " [[ 1  2  3]\n",
            " [ 2  4  6]\n",
            " [ 3  6 99]]\n",
            "iter:\t 20\n",
            "diff:\t 0.0\n",
            "matrix:\t\n",
            " [[ 1  2  3]\n",
            " [ 2  4  6]\n",
            " [ 3  6 99]]\n",
            "iter:\t 40\n",
            "diff:\t 0.0\n",
            "matrix:\t\n",
            " [[ 1  2  3]\n",
            " [ 2  4  6]\n",
            " [ 3  6 99]]\n",
            "iter:\t 60\n",
            "diff:\t 0.0\n",
            "matrix:\t\n",
            " [[ 1  2  3]\n",
            " [ 2  4  6]\n",
            " [ 3  6 99]]\n",
            "iter:\t 80\n",
            "diff:\t 0.0\n",
            "matrix:\t\n",
            " [[ 1  2  3]\n",
            " [ 2  4  6]\n",
            " [ 3  6 99]]\n",
            "iter:\t 100\n",
            "diff:\t 0.0\n",
            "matrix:\t\n",
            " [[ 1  2  3]\n",
            " [ 2  4  6]\n",
            " [ 3  6 99]]\n",
            "iter:\t 120\n",
            "diff:\t 0.0\n",
            "matrix:\t\n",
            " [[ 1  2  3]\n",
            " [ 2  4  6]\n",
            " [ 3  6 99]]\n",
            "iter:\t 140\n",
            "diff:\t 0.0\n",
            "matrix:\t\n",
            " [[ 1  2  3]\n",
            " [ 2  4  6]\n",
            " [ 3  6 99]]\n",
            "iter:\t 160\n",
            "diff:\t 0.0\n",
            "matrix:\t\n",
            " [[ 1  2  3]\n",
            " [ 2  4  6]\n",
            " [ 3  6 99]]\n",
            "iter:\t 180\n",
            "diff:\t 0.0\n",
            "matrix:\t\n",
            " [[ 1  2  3]\n",
            " [ 2  4  6]\n",
            " [ 3  6 99]]\n"
          ]
        }
      ]
    },
    {
      "cell_type": "code",
      "source": [
        "matrix = np.array(\n",
        "    [[1, 2, 3],\n",
        "     [2, 8, 6],\n",
        "     [3, 6, 100]]\n",
        ")\n",
        "projection = matrix.copy()\n",
        "mask = np.array(\n",
        "    [[False, False, False],\n",
        "     [False, False, False],\n",
        "     [False, False, True],]\n",
        ")\n",
        "for i in range(200):\n",
        "    matrix, projection, diff = iteration(matrix, projection, mask, rank=2)\n",
        "    if i % 20 == 0:\n",
        "        print(\"iter:\\t\", i)\n",
        "        print(\"diff:\\t\", diff)\n",
        "        print(\"matrix:\\t\\n\", matrix)"
      ],
      "metadata": {
        "colab": {
          "base_uri": "https://localhost:8080/"
        },
        "outputId": "75792e8f-6c0e-446d-85f3-f40348f66532",
        "id": "XuiRpPJWK48U"
      },
      "execution_count": 61,
      "outputs": [
        {
          "output_type": "stream",
          "name": "stdout",
          "text": [
            "iter:\t 0\n",
            "diff:\t 8.745301605160928e-13\n",
            "matrix:\t\n",
            " [[ 1  2  3]\n",
            " [ 2  8  6]\n",
            " [ 3  6 99]]\n",
            "iter:\t 20\n",
            "diff:\t 0.00015625177523117403\n",
            "matrix:\t\n",
            " [[ 1  2  3]\n",
            " [ 2  8  6]\n",
            " [ 3  6 79]]\n",
            "iter:\t 40\n",
            "diff:\t 0.00027778552683950487\n",
            "matrix:\t\n",
            " [[ 1  2  3]\n",
            " [ 2  8  6]\n",
            " [ 3  6 59]]\n",
            "iter:\t 60\n",
            "diff:\t 0.000625062826647637\n",
            "matrix:\t\n",
            " [[ 1  2  3]\n",
            " [ 2  8  6]\n",
            " [ 3  6 39]]\n",
            "iter:\t 80\n",
            "diff:\t 0.002502267255650722\n",
            "matrix:\t\n",
            " [[ 1  2  3]\n",
            " [ 2  8  6]\n",
            " [ 3  6 19]]\n",
            "iter:\t 100\n",
            "diff:\t 0.0\n",
            "matrix:\t\n",
            " [[1 2 3]\n",
            " [2 8 6]\n",
            " [3 6 9]]\n",
            "iter:\t 120\n",
            "diff:\t 0.0\n",
            "matrix:\t\n",
            " [[1 2 3]\n",
            " [2 8 6]\n",
            " [3 6 9]]\n",
            "iter:\t 140\n",
            "diff:\t 0.0\n",
            "matrix:\t\n",
            " [[1 2 3]\n",
            " [2 8 6]\n",
            " [3 6 9]]\n",
            "iter:\t 160\n",
            "diff:\t 0.0\n",
            "matrix:\t\n",
            " [[1 2 3]\n",
            " [2 8 6]\n",
            " [3 6 9]]\n",
            "iter:\t 180\n",
            "diff:\t 0.0\n",
            "matrix:\t\n",
            " [[1 2 3]\n",
            " [2 8 6]\n",
            " [3 6 9]]\n"
          ]
        }
      ]
    }
  ]
}